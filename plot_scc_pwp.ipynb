{
 "cells": [
  {
   "cell_type": "code",
   "execution_count": 15,
   "metadata": {},
   "outputs": [],
   "source": [
    "# %matplotlib inline\n",
    "import numpy as np\n",
    "import matplotlib as mpl\n",
    "import matplotlib.pyplot as plt\n",
    "import glob\n",
    "\n",
    "from matplotlib import animation\n",
    "from matplotlib import colormaps\n",
    "\n",
    "\n",
    "from astropy.io import fits\n",
    "from IPython.display import HTML\n",
    "from hcipy import *\n",
    "\n",
    "from iefc_utils import *\n",
    "\n",
    "# import iefc_utils\n",
    "\n",
    "import sys\n",
    "import os\n",
    "\n",
    "sys.path.append('/home/jasper/Documents/HCIPy_scripts/magaox-iefc-sim/')\n",
    "plt.style.use('spieposter')\n",
    "\n",
    "# PLOT_DIR = '/home/jasper/Documents/HCIPy_scripts/scc-sims/Data'\n",
    "PLOT_DIR = '/home/jasper/Documents/HCIPy_scripts/scc-sims/Data_new3/'\n",
    "\n"
   ]
  },
  {
   "cell_type": "code",
   "execution_count": 30,
   "metadata": {},
   "outputs": [],
   "source": [
    "pwp_list = glob.glob(PLOT_DIR + 'pwp*.npy')\n",
    "scc_list = glob.glob(PLOT_DIR + 'scc*.npy')\n"
   ]
  },
  {
   "cell_type": "code",
   "execution_count": 20,
   "metadata": {},
   "outputs": [
    {
     "data": {
      "text/plain": [
       "['/home/jasper/Documents/HCIPy_scripts/scc-sims/Data_new2/pwp_ni_4_2_1_0.25_aberr_0.1_reg_0.01_trial_1a.npy',\n",
       " '/home/jasper/Documents/HCIPy_scripts/scc-sims/Data_new2/pwp_ni_4_2_1_0.5_aberr_0.1_reg_0.01_trial_1a.npy',\n",
       " '/home/jasper/Documents/HCIPy_scripts/scc-sims/Data_new2/pwp_ni_4_2_1_0.75_aberr_0.1_reg_0.01_trial_1a.npy',\n",
       " '/home/jasper/Documents/HCIPy_scripts/scc-sims/Data_new2/pwp_ni_4_2_1_1.0_aberr_0.1_reg_0.01_trial_1a.npy',\n",
       " '/home/jasper/Documents/HCIPy_scripts/scc-sims/Data_new2/pwp_ni_4_2_1_1.25_aberr_0.1_reg_0.01_trial_1a.npy',\n",
       " '/home/jasper/Documents/HCIPy_scripts/scc-sims/Data_new2/pwp_ni_4_2_1_1.5_aberr_0.1_reg_0.01_trial_1a.npy',\n",
       " '/home/jasper/Documents/HCIPy_scripts/scc-sims/Data_new2/pwp_ni_4_2_1_1.75_aberr_0.1_reg_0.01_trial_1a.npy',\n",
       " '/home/jasper/Documents/HCIPy_scripts/scc-sims/Data_new2/pwp_ni_4_2_1_2.0_aberr_0.1_reg_0.01_trial_1a.npy',\n",
       " '/home/jasper/Documents/HCIPy_scripts/scc-sims/Data_new2/pwp_ni_4_2_1_2.25_aberr_0.1_reg_0.01_trial_1a.npy',\n",
       " '/home/jasper/Documents/HCIPy_scripts/scc-sims/Data_new2/pwp_ni_4_2_1_2.5_aberr_0.1_reg_0.01_trial_1a.npy',\n",
       " '/home/jasper/Documents/HCIPy_scripts/scc-sims/Data_new2/pwp_ni_4_2_1_2.75_aberr_0.1_reg_0.01_trial_1a.npy',\n",
       " '/home/jasper/Documents/HCIPy_scripts/scc-sims/Data_new2/pwp_ni_4_2_1_3.0_aberr_0.1_reg_0.01_trial_1a.npy']"
      ]
     },
     "execution_count": 20,
     "metadata": {},
     "output_type": "execute_result"
    }
   ],
   "source": [
    "pwp_list"
   ]
  },
  {
   "cell_type": "code",
   "execution_count": 31,
   "metadata": {},
   "outputs": [
    {
     "data": {
      "text/plain": [
       "['/home/jasper/Documents/HCIPy_scripts/scc-sims/Data_new2/scc_ni_4_2_1_0.25_ptv_0.0_reg_0.01_trial_1.npy',\n",
       " '/home/jasper/Documents/HCIPy_scripts/scc-sims/Data_new2/scc_ni_4_2_1_0.5_ptv_0.0_reg_0.01_trial_1.npy',\n",
       " '/home/jasper/Documents/HCIPy_scripts/scc-sims/Data_new2/scc_ni_4_2_1_0.75_ptv_0.0_reg_0.01_trial_1.npy',\n",
       " '/home/jasper/Documents/HCIPy_scripts/scc-sims/Data_new2/scc_ni_4_2_1_1.0_ptv_0.0_reg_0.01_trial_1.npy',\n",
       " '/home/jasper/Documents/HCIPy_scripts/scc-sims/Data_new2/scc_ni_4_2_1_1.25_ptv_0.0_reg_0.01_trial_1.npy',\n",
       " '/home/jasper/Documents/HCIPy_scripts/scc-sims/Data_new2/scc_ni_4_2_1_1.5_ptv_0.0_reg_0.01_trial_1.npy',\n",
       " '/home/jasper/Documents/HCIPy_scripts/scc-sims/Data_new2/scc_ni_4_2_1_1.75_ptv_0.0_reg_0.01_trial_1.npy',\n",
       " '/home/jasper/Documents/HCIPy_scripts/scc-sims/Data_new2/scc_ni_4_2_1_2.0_ptv_0.0_reg_0.01_trial_1.npy',\n",
       " '/home/jasper/Documents/HCIPy_scripts/scc-sims/Data_new2/scc_ni_4_2_1_2.25_ptv_0.0_reg_0.01_trial_1.npy',\n",
       " '/home/jasper/Documents/HCIPy_scripts/scc-sims/Data_new2/scc_ni_4_2_1_2.5_ptv_0.0_reg_0.01_trial_1.npy',\n",
       " '/home/jasper/Documents/HCIPy_scripts/scc-sims/Data_new2/scc_ni_4_2_1_2.75_ptv_0.0_reg_0.01_trial_1.npy',\n",
       " '/home/jasper/Documents/HCIPy_scripts/scc-sims/Data_new2/scc_ni_4_2_1_3.0_ptv_0.0_reg_0.01_trial_1.npy']"
      ]
     },
     "execution_count": 31,
     "metadata": {},
     "output_type": "execute_result"
    }
   ],
   "source": [
    "scc_list"
   ]
  },
  {
   "cell_type": "code",
   "execution_count": 32,
   "metadata": {},
   "outputs": [],
   "source": [
    "pwp_arr = [np.load(i) for i in pwp_list]\n",
    "\n",
    "scc_arr = [np.load(i) for i in scc_list]"
   ]
  },
  {
   "cell_type": "code",
   "execution_count": 25,
   "metadata": {},
   "outputs": [
    {
     "data": {
      "text/plain": [
       "12"
      ]
     },
     "execution_count": 25,
     "metadata": {},
     "output_type": "execute_result"
    }
   ],
   "source": [
    "len(pwp_arr)"
   ]
  },
  {
   "cell_type": "code",
   "execution_count": 33,
   "metadata": {},
   "outputs": [],
   "source": [
    "pwp_arr = np.array(pwp_arr)\n",
    "scc_arr = np.array(scc_arr)"
   ]
  },
  {
   "cell_type": "code",
   "execution_count": 27,
   "metadata": {},
   "outputs": [],
   "source": [
    "# just compare f0 final NI for now\n",
    "# pwp_sliced = pwp_arr[7:11]"
   ]
  },
  {
   "cell_type": "code",
   "execution_count": 34,
   "metadata": {},
   "outputs": [],
   "source": [
    "pwp_final_ni = [i[-1] for i in pwp_arr]\n",
    "scc_final_ni = [i[-1] for i in scc_arr]"
   ]
  },
  {
   "cell_type": "code",
   "execution_count": 29,
   "metadata": {},
   "outputs": [
    {
     "data": {
      "text/plain": [
       "[6.806335397701598e-09,\n",
       " 7.113253060933604e-09,\n",
       " 1.4520872548304657e-08,\n",
       " 3.809598980597969e-08,\n",
       " 3.918319264942107e-08,\n",
       " 3.8455029889655124e-08,\n",
       " 8.309483147626442e-08,\n",
       " 9.655417366306004e-08,\n",
       " 1.3814384932412058e-07,\n",
       " 1.4200927518853776e-07,\n",
       " 9.434525045197016e-08,\n",
       " 2.0036720617349905e-07]"
      ]
     },
     "execution_count": 29,
     "metadata": {},
     "output_type": "execute_result"
    }
   ],
   "source": [
    "pwp_final_ni"
   ]
  },
  {
   "cell_type": "code",
   "execution_count": 35,
   "metadata": {},
   "outputs": [
    {
     "data": {
      "text/plain": [
       "[6.394502901047143e-08,\n",
       " 2.4089224378105307e-08,\n",
       " 5.389253524939281e-08,\n",
       " 8.674737448019004e-08,\n",
       " 7.999245763446844e-08,\n",
       " 1.1622885807468813e-07,\n",
       " 1.3597231475620446e-07,\n",
       " 2.6354360668006205e-07,\n",
       " 1.0298540805719925e-07,\n",
       " 1.72206281478087e-07,\n",
       " 1.3804245999246084e-07,\n",
       " 2.0148750100890338e-07]"
      ]
     },
     "execution_count": 35,
     "metadata": {},
     "output_type": "execute_result"
    }
   ],
   "source": [
    "scc_final_ni"
   ]
  },
  {
   "cell_type": "code",
   "execution_count": 42,
   "metadata": {},
   "outputs": [],
   "source": [
    "f0_arr = np.linspace(0.25, 3, 12)"
   ]
  },
  {
   "cell_type": "code",
   "execution_count": 43,
   "metadata": {},
   "outputs": [
    {
     "data": {
      "text/plain": [
       "array([0.25, 0.5 , 0.75, 1.  , 1.25, 1.5 , 1.75, 2.  , 2.25, 2.5 , 2.75,\n",
       "       3.  ])"
      ]
     },
     "execution_count": 43,
     "metadata": {},
     "output_type": "execute_result"
    }
   ],
   "source": [
    "f0_arr"
   ]
  },
  {
   "cell_type": "code",
   "execution_count": 51,
   "metadata": {},
   "outputs": [
    {
     "data": {
      "image/png": "[encoded data removed]",
      "text/plain": [
       "<Figure size 800x600 with 1 Axes>"
      ]
     },
     "metadata": {},
     "output_type": "display_data"
    }
   ],
   "source": [
    "fig, ax = plt.subplots(1)\n",
    "\n",
    "ax.plot(f0_arr, pwp_final_ni, 'o-')\n",
    "ax.plot(f0_arr, scc_final_ni, 'o-')\n",
    "\n",
    "ax.legend(['PWP', 'SCC'], loc='lower right')\n",
    "\n",
    "\n",
    "ax.set_yscale('log')\n",
    "ax.set_xlabel('f0')\n",
    "ax.set_ylabel('Final NI')\n",
    "\n",
    "plt.savefig(f'{PLOT_DIR}/scc_pwp_vs_f0.png')\n"
   ]
  },
  {
   "cell_type": "code",
   "execution_count": null,
   "metadata": {},
   "outputs": [],
   "source": []
  }
 ],
 "metadata": {
  "kernelspec": {
   "display_name": "hci-env",
   "language": "python",
   "name": "python3"
  },
  "language_info": {
   "codemirror_mode": {
    "name": "ipython",
    "version": 3
   },
   "file_extension": ".py",
   "mimetype": "text/x-python",
   "name": "python",
   "nbconvert_exporter": "python",
   "pygments_lexer": "ipython3",
   "version": "3.11.5"
  }
 },
 "nbformat": 4,
 "nbformat_minor": 2
}
