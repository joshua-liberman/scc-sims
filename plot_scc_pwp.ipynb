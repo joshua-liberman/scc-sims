{
 "cells": [
  {
   "cell_type": "code",
   "execution_count": 12,
   "metadata": {},
   "outputs": [],
   "source": [
    "# %matplotlib inline\n",
    "import numpy as np\n",
    "import matplotlib as mpl\n",
    "import matplotlib.pyplot as plt\n",
    "import glob\n",
    "\n",
    "from matplotlib import animation\n",
    "from matplotlib import colormaps\n",
    "\n",
    "\n",
    "from astropy.io import fits\n",
    "from IPython.display import HTML\n",
    "from hcipy import *\n",
    "\n",
    "from iefc_utils import *\n",
    "\n",
    "# import iefc_utils\n",
    "\n",
    "import sys\n",
    "import os\n",
    "\n",
    "sys.path.append('/home/jasper/Documents/HCIPy_scripts/magaox-iefc-sim/')\n",
    "plt.style.use('spieposter')\n",
    "\n",
    "# PLOT_DIR = '/home/jasper/Documents/HCIPy_scripts/scc-sims/Data'\n",
    "PLOT_DIR = '/home/jasper/Documents/HCIPy_scripts/scc-sims/Data_new3/'\n",
    "\n"
   ]
  },
  {
   "cell_type": "code",
   "execution_count": 13,
   "metadata": {},
   "outputs": [],
   "source": [
    "pwp_list = glob.glob(PLOT_DIR + 'pwp*.npy')\n",
    "scc_list = glob.glob(PLOT_DIR + 'scc*.npy')\n"
   ]
  },
  {
   "cell_type": "code",
   "execution_count": 14,
   "metadata": {},
   "outputs": [
    {
     "data": {
      "text/plain": [
       "['/home/jasper/Documents/HCIPy_scripts/scc-sims/Data_new3/pwp_ni_4_2_1_1.0_aberr_0.1_reg_0.01_trial_1.npy',\n",
       " '/home/jasper/Documents/HCIPy_scripts/scc-sims/Data_new3/pwp_ni_4_2_1_0.20_aberr_0.1_reg_0.01_trial_1.npy',\n",
       " '/home/jasper/Documents/HCIPy_scripts/scc-sims/Data_new3/pwp_ni_4_2_1_0.40_aberr_0.1_reg_0.01_trial_1.npy',\n",
       " '/home/jasper/Documents/HCIPy_scripts/scc-sims/Data_new3/pwp_ni_4_2_1_0.60_aberr_0.1_reg_0.01_trial_1.npy',\n",
       " '/home/jasper/Documents/HCIPy_scripts/scc-sims/Data_new3/pwp_ni_4_2_1_0.80_aberr_0.1_reg_0.01_trial_1.npy']"
      ]
     },
     "execution_count": 14,
     "metadata": {},
     "output_type": "execute_result"
    }
   ],
   "source": [
    "pwp_list"
   ]
  },
  {
   "cell_type": "code",
   "execution_count": 24,
   "metadata": {},
   "outputs": [],
   "source": [
    "pwp_list.append(pwp_list.pop(pwp_list.index(pwp_list[0])))"
   ]
  },
  {
   "cell_type": "code",
   "execution_count": 26,
   "metadata": {},
   "outputs": [
    {
     "data": {
      "text/plain": [
       "['/home/jasper/Documents/HCIPy_scripts/scc-sims/Data_new3/pwp_ni_4_2_1_0.20_aberr_0.1_reg_0.01_trial_1.npy',\n",
       " '/home/jasper/Documents/HCIPy_scripts/scc-sims/Data_new3/pwp_ni_4_2_1_0.40_aberr_0.1_reg_0.01_trial_1.npy',\n",
       " '/home/jasper/Documents/HCIPy_scripts/scc-sims/Data_new3/pwp_ni_4_2_1_0.60_aberr_0.1_reg_0.01_trial_1.npy',\n",
       " '/home/jasper/Documents/HCIPy_scripts/scc-sims/Data_new3/pwp_ni_4_2_1_0.80_aberr_0.1_reg_0.01_trial_1.npy',\n",
       " '/home/jasper/Documents/HCIPy_scripts/scc-sims/Data_new3/pwp_ni_4_2_1_1.0_aberr_0.1_reg_0.01_trial_1.npy']"
      ]
     },
     "execution_count": 26,
     "metadata": {},
     "output_type": "execute_result"
    }
   ],
   "source": [
    "pwp_list"
   ]
  },
  {
   "cell_type": "code",
   "execution_count": 27,
   "metadata": {},
   "outputs": [
    {
     "data": {
      "text/plain": [
       "['/home/jasper/Documents/HCIPy_scripts/scc-sims/Data_new3/scc_ni_4_2_1_0.2_ptv_0.0_reg_0.01_trial_1.npy',\n",
       " '/home/jasper/Documents/HCIPy_scripts/scc-sims/Data_new3/scc_ni_4_2_1_0.4_ptv_0.0_reg_0.01_trial_1.npy',\n",
       " '/home/jasper/Documents/HCIPy_scripts/scc-sims/Data_new3/scc_ni_4_2_1_0.6_ptv_0.0_reg_0.01_trial_1.npy',\n",
       " '/home/jasper/Documents/HCIPy_scripts/scc-sims/Data_new3/scc_ni_4_2_1_0.8_ptv_0.0_reg_0.01_trial_1.npy',\n",
       " '/home/jasper/Documents/HCIPy_scripts/scc-sims/Data_new3/scc_ni_4_2_1_1.0_ptv_0.0_reg_0.01_trial_1.npy']"
      ]
     },
     "execution_count": 27,
     "metadata": {},
     "output_type": "execute_result"
    }
   ],
   "source": [
    "scc_list"
   ]
  },
  {
   "cell_type": "code",
   "execution_count": 28,
   "metadata": {},
   "outputs": [],
   "source": [
    "pwp_arr = [np.load(i) for i in pwp_list]\n",
    "\n",
    "scc_arr = [np.load(i) for i in scc_list]"
   ]
  },
  {
   "cell_type": "code",
   "execution_count": 29,
   "metadata": {},
   "outputs": [
    {
     "data": {
      "text/plain": [
       "5"
      ]
     },
     "execution_count": 29,
     "metadata": {},
     "output_type": "execute_result"
    }
   ],
   "source": [
    "len(pwp_arr)"
   ]
  },
  {
   "cell_type": "code",
   "execution_count": 30,
   "metadata": {},
   "outputs": [],
   "source": [
    "pwp_arr = np.array(pwp_arr)\n",
    "scc_arr = np.array(scc_arr)"
   ]
  },
  {
   "cell_type": "code",
   "execution_count": null,
   "metadata": {},
   "outputs": [],
   "source": []
  },
  {
   "cell_type": "code",
   "execution_count": 31,
   "metadata": {},
   "outputs": [],
   "source": [
    "pwp_final_ni = [i[-1] for i in pwp_arr]\n",
    "scc_final_ni = [i[-1] for i in scc_arr]"
   ]
  },
  {
   "cell_type": "code",
   "execution_count": 32,
   "metadata": {},
   "outputs": [
    {
     "data": {
      "text/plain": [
       "[1.6027559220332687e-08,\n",
       " 1.3100146917427918e-07,\n",
       " 1.1167345534773426e-06,\n",
       " 3.4230612046871273e-06,\n",
       " 3.1579671274076875e-06]"
      ]
     },
     "execution_count": 32,
     "metadata": {},
     "output_type": "execute_result"
    }
   ],
   "source": [
    "pwp_final_ni"
   ]
  },
  {
   "cell_type": "code",
   "execution_count": 33,
   "metadata": {},
   "outputs": [
    {
     "data": {
      "text/plain": [
       "[4.1320070188318266e-08,\n",
       " 2.3405600994306727e-08,\n",
       " 4.02110180143915e-08,\n",
       " 1.0705872116535984e-07,\n",
       " 8.875523254737232e-08]"
      ]
     },
     "execution_count": 33,
     "metadata": {},
     "output_type": "execute_result"
    }
   ],
   "source": [
    "scc_final_ni"
   ]
  },
  {
   "cell_type": "code",
   "execution_count": 34,
   "metadata": {},
   "outputs": [],
   "source": [
    "f0_arr = np.linspace(0.2, 1, 5)"
   ]
  },
  {
   "cell_type": "code",
   "execution_count": 35,
   "metadata": {},
   "outputs": [
    {
     "data": {
      "text/plain": [
       "array([0.2, 0.4, 0.6, 0.8, 1. ])"
      ]
     },
     "execution_count": 35,
     "metadata": {},
     "output_type": "execute_result"
    }
   ],
   "source": [
    "f0_arr"
   ]
  },
  {
   "cell_type": "code",
   "execution_count": 38,
   "metadata": {},
   "outputs": [
    {
     "data": {
      "image/png": "[encoded data removed]",
      "text/plain": [
       "<Figure size 800x600 with 1 Axes>"
      ]
     },
     "metadata": {},
     "output_type": "display_data"
    }
   ],
   "source": [
    "fig, ax = plt.subplots(1)\n",
    "\n",
    "ax.plot(f0_arr, pwp_final_ni, 'o-')\n",
    "ax.plot(f0_arr, scc_final_ni, 'o-')\n",
    "\n",
    "ax.legend(['PWP', 'SCC'], loc='lower right')\n",
    "\n",
    "\n",
    "ax.set_yscale('log')\n",
    "ax.set_xlabel('f0')\n",
    "ax.set_ylabel('Final NI')\n",
    "ax.set_ylim([1e-8, 1e-5])\n",
    "\n",
    "plt.savefig(f'{PLOT_DIR}/scc_pwp_vs_f0.png')\n"
   ]
  },
  {
   "cell_type": "code",
   "execution_count": null,
   "metadata": {},
   "outputs": [],
   "source": []
  }
 ],
 "metadata": {
  "kernelspec": {
   "display_name": "hci-env",
   "language": "python",
   "name": "python3"
  },
  "language_info": {
   "codemirror_mode": {
    "name": "ipython",
    "version": 3
   },
   "file_extension": ".py",
   "mimetype": "text/x-python",
   "name": "python",
   "nbconvert_exporter": "python",
   "pygments_lexer": "ipython3",
   "version": "3.11.5"
  }
 },
 "nbformat": 4,
 "nbformat_minor": 2
}
